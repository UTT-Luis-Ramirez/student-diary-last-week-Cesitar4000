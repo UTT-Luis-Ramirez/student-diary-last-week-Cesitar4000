{
  "nbformat": 4,
  "nbformat_minor": 0,
  "metadata": {
    "colab": {
      "provenance": []
    },
    "kernelspec": {
      "name": "python3",
      "display_name": "Python 3"
    },
    "language_info": {
      "name": "python"
    }
  },
  "cells": [
    {
      "cell_type": "markdown",
      "source": [
        "En esta semana vimos lo que son las llamadas **Medidas de Tendencia Central**\n",
        "\n",
        "# Media aritmética (Promedio)\n",
        "Para un conjunto dado de números, la medida más conocida y más útil del centro es la media aritmética o promedio del conjunto. Como casi siempre se pensará que los números ***x*** constituyen a una muestra, a medido se hará referencia al promedio como la media muestral y se denotará por una X con una raya arriba.\n",
        "\n",
        "# La mediana\n",
        "La palabra mediana es sinónimo de **medio** es en realidad el valor medio una vez que se ordenan las observaciones de la más pequeña a la más grande. Cuando loas observaciones están denotadas por ***x1, x2..... xn***, se utiliza el símbolo de X con raya arriba para representar la mediana muestral.\n",
        "\n",
        "# La media recortada\n",
        "La media es bastante sensible a un solo valor extremo, mientras que la mediana es insensible a muchos valores apartados. Como el comportamiento extremo de uno u otro tipo podría ser indeseable, se considera brevemente medidas alternativas que no son ni sensibles ni tan insensibles como X. La media es el promedio de todos los datos, mientras que la mediana resulta de eliminar todo excepto uno o dos valores medios y luego promediarlos.\n",
        "Una **Muestra Recortada** es un término medio entre X y X, una media 10% recortada, por ejemplo, se calcularía eliminando el 10% más pequeño y el 10% más grande de la muestra y luego promediando el resultante.\n",
        "\n",
        "# Cuartiles\n",
        "Los cuartiles son valores que dividen un conjunto de datos en cuatro partes iguales. Son una herramienta que tiene la estadística para evaluar la tendencia central, la dispersión y la variabilidad de las observaciones\n",
        "\n",
        "Los cuartiles se representan con la letra Q seguida por el número cuartil. Por ejemplo, el cuartil 1 es el cuartil inferior, el cuartil 2 es el cuartil medio y el cuartil 3 es el cuartil superior, respectivamente Q1, Q2 y Q3."
      ],
      "metadata": {
        "id": "d4fGJDD-TFEC"
      }
    }
  ]
}